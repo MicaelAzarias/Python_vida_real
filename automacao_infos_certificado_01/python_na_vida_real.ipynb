{
 "cells": [
  {
   "cell_type": "markdown",
   "metadata": {},
   "source": [
    "# NÃO DE CTRL ENTER O CODIGO RODA, SE DER CTRL ENTER ELE VAI GERAL 100 IMAGENS UMA COM CADA INFORMAÇÃO, \n",
    "\n",
    "# SE QUISER FAZER O TEXT VAI AO \n",
    "#for indice, linha in enumerate(sheet_alunos.iter_rows(min_row=2)): \n",
    "# E COLOQUE \n",
    "#',max_row=2' \n",
    "# PARA ELE GERAR APENAS UMA IMAGEM PARA VOCE FAZER UM TEXT"
   ]
  },
  {
   "cell_type": "code",
   "execution_count": null,
   "metadata": {},
   "outputs": [
    {
     "name": "stdout",
     "output_type": "stream",
     "text": [
      "Collecting pillow\n",
      "  Obtaining dependency information for pillow from https://files.pythonhosted.org/packages/43/56/f92715a873187b5eff72a4a0d2ac6258e18e9bfb0e136aafde65c49a841a/pillow-10.2.0-cp311-cp311-win_amd64.whl.metadata\n",
      "  Downloading pillow-10.2.0-cp311-cp311-win_amd64.whl.metadata (9.9 kB)\n",
      "Downloading pillow-10.2.0-cp311-cp311-win_amd64.whl (2.6 MB)\n",
      "   ---------------------------------------- 0.0/2.6 MB ? eta -:--:--\n",
      "   ---------------------------------------- 0.0/2.6 MB ? eta -:--:--\n",
      "    --------------------------------------- 0.1/2.6 MB 1.1 MB/s eta 0:00:03\n",
      "   ------- -------------------------------- 0.5/2.6 MB 4.9 MB/s eta 0:00:01\n",
      "   ------------------------------------- -- 2.4/2.6 MB 17.3 MB/s eta 0:00:01\n",
      "   ---------------------------------------- 2.6/2.6 MB 16.6 MB/s eta 0:00:00\n",
      "Installing collected packages: pillow\n",
      "Successfully installed pillow-10.2.0\n",
      "Note: you may need to restart the kernel to use updated packages.\n"
     ]
    },
    {
     "name": "stderr",
     "output_type": "stream",
     "text": [
      "\n",
      "[notice] A new release of pip is available: 23.2.1 -> 24.0\n",
      "[notice] To update, run: python.exe -m pip install --upgrade pip\n"
     ]
    }
   ],
   "source": [
    "pip install pillow"
   ]
  },
  {
   "cell_type": "code",
   "execution_count": null,
   "metadata": {},
   "outputs": [
    {
     "name": "stdout",
     "output_type": "stream",
     "text": [
      "Collecting openpyxl\n",
      "  Obtaining dependency information for openpyxl from https://files.pythonhosted.org/packages/6a/94/a59521de836ef0da54aaf50da6c4da8fb4072fb3053fa71f052fd9399e7a/openpyxl-3.1.2-py2.py3-none-any.whl.metadata\n",
      "  Downloading openpyxl-3.1.2-py2.py3-none-any.whl.metadata (2.5 kB)\n",
      "Collecting et-xmlfile (from openpyxl)\n",
      "  Obtaining dependency information for et-xmlfile from https://files.pythonhosted.org/packages/96/c2/3dd434b0108730014f1b96fd286040dc3bcb70066346f7e01ec2ac95865f/et_xmlfile-1.1.0-py3-none-any.whl.metadata\n",
      "  Downloading et_xmlfile-1.1.0-py3-none-any.whl.metadata (1.8 kB)\n",
      "Downloading openpyxl-3.1.2-py2.py3-none-any.whl (249 kB)\n",
      "   ---------------------------------------- 0.0/250.0 kB ? eta -:--:--\n",
      "   ------ --------------------------------- 41.0/250.0 kB 1.9 MB/s eta 0:00:01\n",
      "   ---------------------------------------- 250.0/250.0 kB 5.1 MB/s eta 0:00:00\n",
      "Downloading et_xmlfile-1.1.0-py3-none-any.whl (4.7 kB)\n",
      "Installing collected packages: et-xmlfile, openpyxl\n",
      "Successfully installed et-xmlfile-1.1.0 openpyxl-3.1.2\n",
      "Note: you may need to restart the kernel to use updated packages.\n"
     ]
    },
    {
     "name": "stderr",
     "output_type": "stream",
     "text": [
      "\n",
      "[notice] A new release of pip is available: 23.2.1 -> 24.0\n",
      "[notice] To update, run: python.exe -m pip install --upgrade pip\n"
     ]
    }
   ],
   "source": [
    "pip install openpyxl"
   ]
  },
  {
   "cell_type": "markdown",
   "metadata": {},
   "source": [
    "Desafio "
   ]
  },
  {
   "cell_type": "markdown",
   "metadata": {},
   "source": [
    "\"\"\" \n",
    "#tenho uma planilha no excel com os dados dos alunos que fizeram um curso\n",
    "\n",
    "quero ver a possibilidade de criar um programa usando o Python para automatizar enviando os dados da planilha para preencher os campos mutaéveis co certificado padrão.\n",
    "\n",
    "tipo nome curso, nome participante, tipo de participação, data do inicio, data do final, carga horaria, data de emissão do certificado e as assinaturas do Gestor Geral, do coordenador \n",
    "\"\"\" "
   ]
  },
  {
   "cell_type": "markdown",
   "metadata": {},
   "source": [
    "# o que tenho que fazer?"
   ]
  },
  {
   "cell_type": "markdown",
   "metadata": {},
   "source": [
    "# pegar os dados da planilha:\n",
    "\n",
    "tipo nome curso, nome participante, tipo de participação, data do inicio, data do final, carga horaria, data de emissão do certificado e as assinaturas do Gestor Geral, do coordenador \n",
    "\n",
    "\n",
    "# transferir para a imagem do certificado:\n"
   ]
  },
  {
   "cell_type": "markdown",
   "metadata": {},
   "source": [
    "#1 pegando os dados "
   ]
  },
  {
   "cell_type": "code",
   "execution_count": null,
   "metadata": {},
   "outputs": [],
   "source": [
    "import openpyxl\n",
    "from PIL import Image, ImageDraw, ImageFont\n",
    "\n",
    "# isto é para abrir a planilha \n",
    "livrotrabalho_alunos = openpyxl.load_workbook('planilha_alunos.xlsx')\n",
    "sheet_alunos = livrotrabalho_alunos['Sheet1']\n",
    "\n",
    "# para ele criar indices que nada mais é que posições e não seus valores mas sim sua posição\n",
    "# temos que usar a função 'enumerate' para que o sistem faça sozinho a função de criar varias fotos para sobrepor, pois sem isso ele faria tudo em cima de uma imagem so, agora ele vai ccriar varios arquivos um com cada info \n",
    "for indice, linha in enumerate(sheet_alunos.iter_rows(min_row=2)): # serve para iniciar a busca da lista do excel pela linha 2 e não pela 1\n",
    "    # cada celula que contem a info que precisamos \n",
    "    nome_curso = linha[0].value # para pegar a primeira informação \n",
    "    nome_participante = linha[1].value # mesma coisa mas para pegar a outra informação\n",
    "    tipo_participacao = linha[2].value # tipo de participação\n",
    "    data_inicio = linha[3].value #data inicio\n",
    "    data_final = linha[4].value # data final\n",
    "    carga_horario = linha[5].value # carga horaria\n",
    "    data_emissao = linha[6].value #data emissão\n",
    "\n",
    "# transferir os dados da planilha para a imagem do certificado\n",
    "    font_nome = ImageFont.truetype('./tahomabd.ttf') # isso serve para definir a fonte que \n",
    "    fonte_geral = ImageFont.truetype('./tahoma.ttf') # sera usada \n",
    "\n",
    "# abrir a imagem e fazer o texto sobre por sobre ela\n",
    "    image = Image.open('./certificado_padrao.jpg') # a foto \n",
    "    desenhar = ImageDraw.Draw(image) # para desenhar as informações em cima da imagem \n",
    "\n",
    "# agora vem a pior parte pois temos que dar a coodernada correta para o texto ficar em cima da imagem \n",
    "    desenhar.text((200,600), nome_participante, fill='black',font=font_nome) # usamos uma tupla que é um par de cooderndas # o fill='  serve para dar a cor da fonte e o font= para dar a fonte que vamos usar \n",
    "\n",
    "#para salvar o comando que demos em cima\n",
    "    image.save(f'./{indice}{nome_participante}test.png')\n",
    "# so com isso que fizemos ele ja iria funcionar mas, ele deixaria as informações nos lugares errados."
   ]
  },
  {
   "cell_type": "code",
   "execution_count": null,
   "metadata": {},
   "outputs": [],
   "source": [
    "import openpyxl\n",
    "from PIL import Image, ImageDraw, ImageFont\n",
    "\n",
    "# isto é para abrir a planilha \n",
    "livrotrabalho_alunos = openpyxl.load_workbook('planilha_alunos.xlsx')\n",
    "sheet_alunos = livrotrabalho_alunos['Sheet1']\n",
    "\n",
    "# para ele criar indices que nada mais é que posições e não seus valores mas sim sua posição\n",
    "# temos que usar a função 'enumerate' para que o sistem faça sozinho a função de criar varias fotos para sobrepor, pois sem isso ele faria tudo em cima de uma imagem so, agora ele vai ccriar varios arquivos um com cada info \n",
    "for indice, linha in enumerate(sheet_alunos.iter_rows(min_row=2, max_row=2)): # serve para iniciar a busca da lista do excel pela linha 2 e não pela 1\n",
    "    # cada celula que contem a info que precisamos \n",
    "    nome_curso = linha[0].value # para pegar a primeira informação \n",
    "    nome_participante = linha[1].value # mesma coisa mas para pegar a outra informação\n",
    "    tipo_participacao = linha[2].value # tipo de participação\n",
    "    carga_horario = linha[5].value # carga horaria\n",
    "    # vai para um lugar\n",
    "    data_inicio = linha[3].value #data inicio\n",
    "    data_final = linha[4].value # data final\n",
    "    # vai para outro lugar\n",
    "    data_emissao = linha[6].value #data emissão\n",
    "\n",
    "# transferir os dados da planilha para a imagem do certificado\n",
    "    font_nome = ImageFont.truetype('./tahomabd.ttf', 90) #serve para o tamanho da fonte) # isso serve para definir a fonte que \n",
    "    fonte_geral = ImageFont.truetype('./tahoma.ttf', 80) #serve para o tamanho da fonte) # sera usada \n",
    "    fonte_data = ImageFont.truetype('./tahoma.ttf', 55) # criamos um diferente para as datas \n",
    "# abrir a imagem e fazer o texto sobre por sobre ela\n",
    "    image = Image.open('./certificado_padrao.jpg') # a foto \n",
    "    desenhar = ImageDraw.Draw(image) # para desenhar as informações em cima da imagem \n",
    "\n",
    "# agora vem a pior parte pois temos que dar a coodernada correta para o texto ficar em cima da imagem \n",
    "    #direita/esquerda - #cima/baixo\n",
    "    desenhar.text((1020,827), nome_participante, fill='black',font=font_nome) # usamos uma tupla que é um par de cooderndas # o fill='  serve para dar a cor da fonte e o font= para dar a fonte que vamos usar \n",
    "# essa parte de cima serve para dar a localização do conteudo \n",
    "    desenhar.text((1060,950), nome_curso, fill='black', font=fonte_geral)\n",
    "    desenhar.text((1435,1065), tipo_participacao, fill='black', font=fonte_geral)\n",
    "    desenhar.text((1480,1182), str(carga_horario), fill='black', font=fonte_geral) # transforme para string pois esta em numero e não da para desenhar numero \n",
    "\n",
    "    desenhar.text((750,1770), str(data_inicio), fill='blue', font=fonte_data) # a carga horaria é um numero e so \n",
    "    desenhar.text((750,1930), str(data_final), fill='blue', font=fonte_data)  # pode ser desenhado texto, então vamos transformar me string\n",
    "\n",
    "    desenhar.text((2220,1930), data_emissao, fill='red', font=fonte_data)\n",
    "#para salvar o comando que demos em cima\n",
    "    image.save(f'./{indice}{nome_participante}test.png')"
   ]
  }
 ],
 "metadata": {
  "kernelspec": {
   "display_name": "Python 3",
   "language": "python",
   "name": "python3"
  },
  "language_info": {
   "codemirror_mode": {
    "name": "ipython",
    "version": 3
   },
   "file_extension": ".py",
   "mimetype": "text/x-python",
   "name": "python",
   "nbconvert_exporter": "python",
   "pygments_lexer": "ipython3",
   "version": "3.11.5"
  }
 },
 "nbformat": 4,
 "nbformat_minor": 2
}
